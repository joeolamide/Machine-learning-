{
 "cells": [
  {
   "cell_type": "code",
   "execution_count": 103,
   "metadata": {},
   "outputs": [],
   "source": [
    "#Making use of decision-tree for classification"
   ]
  },
  {
   "cell_type": "code",
   "execution_count": 104,
   "metadata": {},
   "outputs": [
    {
     "name": "stdout",
     "output_type": "stream",
     "text": [
      "setup right\n"
     ]
    }
   ],
   "source": [
    "#Importing neccessary libraries.\n",
    "import numpy as np\n",
    "import pandas as pd\n",
    "import matplotlib.pyplot as plt \n",
    "plt.style.use('seaborn-whitegrid')\n",
    "%matplotlib inline\n",
    "import seaborn as sns\n",
    "from sklearn.metrics import mean_absolute_error\n",
    "from sklearn.model_selection import train_test_split\n",
    "from sklearn.decomposition import PCA \n",
    "import pylab as pl\n",
    "from sklearn.tree import DecisionTreeRegressor\n",
    "from sklearn.ensemble import RandomForestRegressor\n",
    "print(\"setup right\")"
   ]
  },
  {
   "cell_type": "code",
   "execution_count": 105,
   "metadata": {},
   "outputs": [
    {
     "data": {
      "text/html": [
       "<div>\n",
       "<style scoped>\n",
       "    .dataframe tbody tr th:only-of-type {\n",
       "        vertical-align: middle;\n",
       "    }\n",
       "\n",
       "    .dataframe tbody tr th {\n",
       "        vertical-align: top;\n",
       "    }\n",
       "\n",
       "    .dataframe thead th {\n",
       "        text-align: right;\n",
       "    }\n",
       "</style>\n",
       "<table border=\"1\" class=\"dataframe\">\n",
       "  <thead>\n",
       "    <tr style=\"text-align: right;\">\n",
       "      <th></th>\n",
       "      <th>TOMATO ID</th>\n",
       "      <th>LONGEVITY(IN DAYS)</th>\n",
       "      <th>TEXTURE</th>\n",
       "      <th>COLOUR</th>\n",
       "      <th>QUALITY(5 STAR )</th>\n",
       "    </tr>\n",
       "  </thead>\n",
       "  <tbody>\n",
       "    <tr>\n",
       "      <th>0</th>\n",
       "      <td>1</td>\n",
       "      <td>1</td>\n",
       "      <td>1</td>\n",
       "      <td>3</td>\n",
       "      <td>5</td>\n",
       "    </tr>\n",
       "    <tr>\n",
       "      <th>1</th>\n",
       "      <td>2</td>\n",
       "      <td>1</td>\n",
       "      <td>1</td>\n",
       "      <td>3</td>\n",
       "      <td>5</td>\n",
       "    </tr>\n",
       "    <tr>\n",
       "      <th>2</th>\n",
       "      <td>3</td>\n",
       "      <td>1</td>\n",
       "      <td>1</td>\n",
       "      <td>2</td>\n",
       "      <td>5</td>\n",
       "    </tr>\n",
       "  </tbody>\n",
       "</table>\n",
       "</div>"
      ],
      "text/plain": [
       "   TOMATO ID  LONGEVITY(IN DAYS)  TEXTURE  COLOUR  QUALITY(5 STAR )\n",
       "0          1                   1        1       3                 5\n",
       "1          2                   1        1       3                 5\n",
       "2          3                   1        1       2                 5"
      ]
     },
     "execution_count": 105,
     "metadata": {},
     "output_type": "execute_result"
    }
   ],
   "source": [
    "#loading the dataset \n",
    "tomato_data = pd.read_csv(r'C:\\Users\\joseph\\Documents\\tomato_data.csv')\n",
    "tomato_data.head(3)"
   ]
  },
  {
   "cell_type": "code",
   "execution_count": 106,
   "metadata": {},
   "outputs": [
    {
     "data": {
      "text/plain": [
       "False"
      ]
     },
     "execution_count": 106,
     "metadata": {},
     "output_type": "execute_result"
    }
   ],
   "source": [
    "#checking for null/nan values.\n",
    "tomato_data.isnull().values.any()"
   ]
  },
  {
   "cell_type": "code",
   "execution_count": 107,
   "metadata": {},
   "outputs": [
    {
     "name": "stdout",
     "output_type": "stream",
     "text": [
      "<class 'pandas.core.frame.DataFrame'>\n",
      "RangeIndex: 615 entries, 0 to 614\n",
      "Data columns (total 5 columns):\n",
      "TOMATO ID             615 non-null int64\n",
      "LONGEVITY(IN DAYS)    615 non-null int64\n",
      "TEXTURE               615 non-null int64\n",
      "COLOUR                615 non-null int64\n",
      "QUALITY(5 STAR )      615 non-null int64\n",
      "dtypes: int64(5)\n",
      "memory usage: 24.1 KB\n"
     ]
    },
    {
     "data": {
      "text/plain": [
       "Index(['TOMATO ID', 'LONGEVITY(IN DAYS)', 'TEXTURE', 'COLOUR',\n",
       "       'QUALITY(5 STAR )'],\n",
       "      dtype='object')"
      ]
     },
     "execution_count": 107,
     "metadata": {},
     "output_type": "execute_result"
    }
   ],
   "source": [
    "tomato_data.info()\n",
    "tomato_data.columns"
   ]
  },
  {
   "cell_type": "code",
   "execution_count": 108,
   "metadata": {},
   "outputs": [
    {
     "data": {
      "text/plain": [
       "(615, 5)"
      ]
     },
     "execution_count": 108,
     "metadata": {},
     "output_type": "execute_result"
    }
   ],
   "source": [
    "tomato_data.shape"
   ]
  },
  {
   "cell_type": "code",
   "execution_count": 109,
   "metadata": {},
   "outputs": [
    {
     "data": {
      "text/html": [
       "<div>\n",
       "<style scoped>\n",
       "    .dataframe tbody tr th:only-of-type {\n",
       "        vertical-align: middle;\n",
       "    }\n",
       "\n",
       "    .dataframe tbody tr th {\n",
       "        vertical-align: top;\n",
       "    }\n",
       "\n",
       "    .dataframe thead th {\n",
       "        text-align: right;\n",
       "    }\n",
       "</style>\n",
       "<table border=\"1\" class=\"dataframe\">\n",
       "  <thead>\n",
       "    <tr style=\"text-align: right;\">\n",
       "      <th></th>\n",
       "      <th>TOMATO ID</th>\n",
       "      <th>LONGEVITY(IN DAYS)</th>\n",
       "      <th>TEXTURE</th>\n",
       "      <th>COLOUR</th>\n",
       "      <th>QUALITY(5 STAR )</th>\n",
       "    </tr>\n",
       "  </thead>\n",
       "  <tbody>\n",
       "    <tr>\n",
       "      <th>count</th>\n",
       "      <td>615.000000</td>\n",
       "      <td>615.000000</td>\n",
       "      <td>615.000000</td>\n",
       "      <td>615.000000</td>\n",
       "      <td>615.000000</td>\n",
       "    </tr>\n",
       "    <tr>\n",
       "      <th>mean</th>\n",
       "      <td>308.000000</td>\n",
       "      <td>3.655285</td>\n",
       "      <td>1.736585</td>\n",
       "      <td>2.817886</td>\n",
       "      <td>4.182114</td>\n",
       "    </tr>\n",
       "    <tr>\n",
       "      <th>std</th>\n",
       "      <td>177.679487</td>\n",
       "      <td>1.884672</td>\n",
       "      <td>0.802406</td>\n",
       "      <td>0.418628</td>\n",
       "      <td>0.857619</td>\n",
       "    </tr>\n",
       "    <tr>\n",
       "      <th>min</th>\n",
       "      <td>1.000000</td>\n",
       "      <td>1.000000</td>\n",
       "      <td>1.000000</td>\n",
       "      <td>1.000000</td>\n",
       "      <td>3.000000</td>\n",
       "    </tr>\n",
       "    <tr>\n",
       "      <th>25%</th>\n",
       "      <td>154.500000</td>\n",
       "      <td>2.000000</td>\n",
       "      <td>1.000000</td>\n",
       "      <td>3.000000</td>\n",
       "      <td>3.000000</td>\n",
       "    </tr>\n",
       "    <tr>\n",
       "      <th>50%</th>\n",
       "      <td>308.000000</td>\n",
       "      <td>4.000000</td>\n",
       "      <td>2.000000</td>\n",
       "      <td>3.000000</td>\n",
       "      <td>4.000000</td>\n",
       "    </tr>\n",
       "    <tr>\n",
       "      <th>75%</th>\n",
       "      <td>461.500000</td>\n",
       "      <td>5.000000</td>\n",
       "      <td>2.000000</td>\n",
       "      <td>3.000000</td>\n",
       "      <td>5.000000</td>\n",
       "    </tr>\n",
       "    <tr>\n",
       "      <th>max</th>\n",
       "      <td>615.000000</td>\n",
       "      <td>7.000000</td>\n",
       "      <td>3.000000</td>\n",
       "      <td>3.000000</td>\n",
       "      <td>5.000000</td>\n",
       "    </tr>\n",
       "  </tbody>\n",
       "</table>\n",
       "</div>"
      ],
      "text/plain": [
       "        TOMATO ID  LONGEVITY(IN DAYS)     TEXTURE      COLOUR  \\\n",
       "count  615.000000          615.000000  615.000000  615.000000   \n",
       "mean   308.000000            3.655285    1.736585    2.817886   \n",
       "std    177.679487            1.884672    0.802406    0.418628   \n",
       "min      1.000000            1.000000    1.000000    1.000000   \n",
       "25%    154.500000            2.000000    1.000000    3.000000   \n",
       "50%    308.000000            4.000000    2.000000    3.000000   \n",
       "75%    461.500000            5.000000    2.000000    3.000000   \n",
       "max    615.000000            7.000000    3.000000    3.000000   \n",
       "\n",
       "       QUALITY(5 STAR )  \n",
       "count        615.000000  \n",
       "mean           4.182114  \n",
       "std            0.857619  \n",
       "min            3.000000  \n",
       "25%            3.000000  \n",
       "50%            4.000000  \n",
       "75%            5.000000  \n",
       "max            5.000000  "
      ]
     },
     "execution_count": 109,
     "metadata": {},
     "output_type": "execute_result"
    }
   ],
   "source": [
    "tomato_data.describe()"
   ]
  },
  {
   "cell_type": "code",
   "execution_count": 110,
   "metadata": {},
   "outputs": [
    {
     "data": {
      "text/html": [
       "<div>\n",
       "<style scoped>\n",
       "    .dataframe tbody tr th:only-of-type {\n",
       "        vertical-align: middle;\n",
       "    }\n",
       "\n",
       "    .dataframe tbody tr th {\n",
       "        vertical-align: top;\n",
       "    }\n",
       "\n",
       "    .dataframe thead th {\n",
       "        text-align: right;\n",
       "    }\n",
       "</style>\n",
       "<table border=\"1\" class=\"dataframe\">\n",
       "  <thead>\n",
       "    <tr style=\"text-align: right;\">\n",
       "      <th></th>\n",
       "      <th>TOMATO ID</th>\n",
       "      <th>LONGEVITY(IN DAYS)</th>\n",
       "      <th>TEXTURE</th>\n",
       "      <th>COLOUR</th>\n",
       "      <th>QUALITY(5 STAR )</th>\n",
       "    </tr>\n",
       "  </thead>\n",
       "  <tbody>\n",
       "    <tr>\n",
       "      <th>TOMATO ID</th>\n",
       "      <td>1.000000</td>\n",
       "      <td>0.985435</td>\n",
       "      <td>0.619521</td>\n",
       "      <td>0.156382</td>\n",
       "      <td>-0.625702</td>\n",
       "    </tr>\n",
       "    <tr>\n",
       "      <th>LONGEVITY(IN DAYS)</th>\n",
       "      <td>0.985435</td>\n",
       "      <td>1.000000</td>\n",
       "      <td>0.630193</td>\n",
       "      <td>0.176272</td>\n",
       "      <td>-0.618073</td>\n",
       "    </tr>\n",
       "    <tr>\n",
       "      <th>TEXTURE</th>\n",
       "      <td>0.619521</td>\n",
       "      <td>0.630193</td>\n",
       "      <td>1.000000</td>\n",
       "      <td>0.201202</td>\n",
       "      <td>-0.850823</td>\n",
       "    </tr>\n",
       "    <tr>\n",
       "      <th>COLOUR</th>\n",
       "      <td>0.156382</td>\n",
       "      <td>0.176272</td>\n",
       "      <td>0.201202</td>\n",
       "      <td>1.000000</td>\n",
       "      <td>-0.143364</td>\n",
       "    </tr>\n",
       "    <tr>\n",
       "      <th>QUALITY(5 STAR )</th>\n",
       "      <td>-0.625702</td>\n",
       "      <td>-0.618073</td>\n",
       "      <td>-0.850823</td>\n",
       "      <td>-0.143364</td>\n",
       "      <td>1.000000</td>\n",
       "    </tr>\n",
       "  </tbody>\n",
       "</table>\n",
       "</div>"
      ],
      "text/plain": [
       "                    TOMATO ID  LONGEVITY(IN DAYS)   TEXTURE    COLOUR  \\\n",
       "TOMATO ID            1.000000            0.985435  0.619521  0.156382   \n",
       "LONGEVITY(IN DAYS)   0.985435            1.000000  0.630193  0.176272   \n",
       "TEXTURE              0.619521            0.630193  1.000000  0.201202   \n",
       "COLOUR               0.156382            0.176272  0.201202  1.000000   \n",
       "QUALITY(5 STAR )    -0.625702           -0.618073 -0.850823 -0.143364   \n",
       "\n",
       "                    QUALITY(5 STAR )  \n",
       "TOMATO ID                  -0.625702  \n",
       "LONGEVITY(IN DAYS)         -0.618073  \n",
       "TEXTURE                    -0.850823  \n",
       "COLOUR                     -0.143364  \n",
       "QUALITY(5 STAR )            1.000000  "
      ]
     },
     "execution_count": 110,
     "metadata": {},
     "output_type": "execute_result"
    }
   ],
   "source": [
    "tomato_data.corr()"
   ]
  },
  {
   "cell_type": "code",
   "execution_count": 111,
   "metadata": {},
   "outputs": [],
   "source": [
    "#Need to drop Tomato ID, Colour.\n",
    "tomato_data.drop(\"TOMATO ID\", axis=1,inplace=True)\n",
    "tomato_data.drop(\"COLOUR\", axis=1,inplace=True)"
   ]
  },
  {
   "cell_type": "code",
   "execution_count": 112,
   "metadata": {},
   "outputs": [
    {
     "data": {
      "text/plain": [
       "Index(['LONGEVITY(IN DAYS)', 'TEXTURE', 'QUALITY(5 STAR )'], dtype='object')"
      ]
     },
     "execution_count": 112,
     "metadata": {},
     "output_type": "execute_result"
    }
   ],
   "source": [
    "tomato_data.columns"
   ]
  },
  {
   "cell_type": "code",
   "execution_count": 113,
   "metadata": {},
   "outputs": [
    {
     "data": {
      "text/plain": [
       "DecisionTreeClassifier(class_weight=None, criterion='gini', max_depth=None,\n",
       "            max_features=None, max_leaf_nodes=None,\n",
       "            min_impurity_decrease=0.0, min_impurity_split=None,\n",
       "            min_samples_leaf=1, min_samples_split=2,\n",
       "            min_weight_fraction_leaf=0.0, presort=False, random_state=None,\n",
       "            splitter='best')"
      ]
     },
     "execution_count": 113,
     "metadata": {},
     "output_type": "execute_result"
    }
   ],
   "source": [
    "#Dividing the data into attributes and labels.\n",
    "X = tomato_data.drop('QUALITY(5 STAR )', axis=1)\n",
    "y = tomato_data['QUALITY(5 STAR )']\n",
    "X_test.fillna(X_train.mean(), inplace=True)\n",
    "\n",
    "#The final preprocessing step is to divide our data into training and test sets.\n",
    "from sklearn.model_selection import train_test_split\n",
    "X_train, X_test, y_train, y_test = train_test_split(X, y, test_size=0.20,random_state=0)\n",
    "\n",
    "#Training and Making Predictions\n",
    "from sklearn.tree import DecisionTreeClassifier\n",
    "classifier = DecisionTreeClassifier()\n",
    "classifier.fit(X_train, y_train)"
   ]
  },
  {
   "cell_type": "code",
   "execution_count": 114,
   "metadata": {},
   "outputs": [],
   "source": [
    "#Getting the predictions.\n",
    "y_pred = classifier.predict(X_test)"
   ]
  },
  {
   "cell_type": "code",
   "execution_count": 115,
   "metadata": {},
   "outputs": [
    {
     "name": "stdout",
     "output_type": "stream",
     "text": [
      "[[35  3  1]\n",
      " [ 1 18  7]\n",
      " [ 1  7 50]]\n",
      "              precision    recall  f1-score   support\n",
      "\n",
      "           3       0.95      0.90      0.92        39\n",
      "           4       0.64      0.69      0.67        26\n",
      "           5       0.86      0.86      0.86        58\n",
      "\n",
      "   micro avg       0.84      0.84      0.84       123\n",
      "   macro avg       0.82      0.82      0.82       123\n",
      "weighted avg       0.84      0.84      0.84       123\n",
      "\n"
     ]
    }
   ],
   "source": [
    "#Evaluating the Algorithm\n",
    "from sklearn.metrics import classification_report, confusion_matrix\n",
    "print(confusion_matrix(y_test, y_pred))\n",
    "print(classification_report(y_test, y_pred))"
   ]
  }
 ],
 "metadata": {
  "kernelspec": {
   "display_name": "Python 3",
   "language": "python",
   "name": "python3"
  },
  "language_info": {
   "codemirror_mode": {
    "name": "ipython",
    "version": 3
   },
   "file_extension": ".py",
   "mimetype": "text/x-python",
   "name": "python",
   "nbconvert_exporter": "python",
   "pygments_lexer": "ipython3",
   "version": "3.7.1"
  }
 },
 "nbformat": 4,
 "nbformat_minor": 2
}
