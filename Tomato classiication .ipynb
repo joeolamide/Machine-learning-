{
 "cells": [
  {
   "cell_type": "markdown",
   "metadata": {},
   "source": [
    "# IMPORTING MODULES"
   ]
  },
  {
   "cell_type": "code",
   "execution_count": 1,
   "metadata": {},
   "outputs": [
    {
     "name": "stdout",
     "output_type": "stream",
     "text": [
      "import complete\n"
     ]
    }
   ],
   "source": [
    "import numpy as np\n",
    "import pandas as pd\n",
    "import matplotlib.pyplot as plt\n",
    "from sklearn.model_selection import train_test_split\n",
    "from sklearn.decomposition import PCA\n",
    "import pylab as pl\n",
    "from sklearn import svm\n",
    "print(\"import complete\")"
   ]
  },
  {
   "cell_type": "markdown",
   "metadata": {},
   "source": [
    "# LOADING THE DATASET"
   ]
  },
  {
   "cell_type": "code",
   "execution_count": 2,
   "metadata": {},
   "outputs": [
    {
     "data": {
      "text/html": [
       "<div>\n",
       "<style scoped>\n",
       "    .dataframe tbody tr th:only-of-type {\n",
       "        vertical-align: middle;\n",
       "    }\n",
       "\n",
       "    .dataframe tbody tr th {\n",
       "        vertical-align: top;\n",
       "    }\n",
       "\n",
       "    .dataframe thead th {\n",
       "        text-align: right;\n",
       "    }\n",
       "</style>\n",
       "<table border=\"1\" class=\"dataframe\">\n",
       "  <thead>\n",
       "    <tr style=\"text-align: right;\">\n",
       "      <th></th>\n",
       "      <th>TOMATO ID</th>\n",
       "      <th>LONGEVITY(IN DAYS)</th>\n",
       "      <th>TEXTURE</th>\n",
       "      <th>COLOUR</th>\n",
       "      <th>QUALITY(5 STAR )</th>\n",
       "    </tr>\n",
       "  </thead>\n",
       "  <tbody>\n",
       "    <tr>\n",
       "      <th>0</th>\n",
       "      <td>1</td>\n",
       "      <td>1</td>\n",
       "      <td>1</td>\n",
       "      <td>3</td>\n",
       "      <td>5</td>\n",
       "    </tr>\n",
       "    <tr>\n",
       "      <th>1</th>\n",
       "      <td>2</td>\n",
       "      <td>1</td>\n",
       "      <td>1</td>\n",
       "      <td>3</td>\n",
       "      <td>5</td>\n",
       "    </tr>\n",
       "    <tr>\n",
       "      <th>2</th>\n",
       "      <td>3</td>\n",
       "      <td>1</td>\n",
       "      <td>1</td>\n",
       "      <td>2</td>\n",
       "      <td>5</td>\n",
       "    </tr>\n",
       "    <tr>\n",
       "      <th>3</th>\n",
       "      <td>4</td>\n",
       "      <td>1</td>\n",
       "      <td>1</td>\n",
       "      <td>3</td>\n",
       "      <td>5</td>\n",
       "    </tr>\n",
       "    <tr>\n",
       "      <th>4</th>\n",
       "      <td>5</td>\n",
       "      <td>1</td>\n",
       "      <td>1</td>\n",
       "      <td>2</td>\n",
       "      <td>4</td>\n",
       "    </tr>\n",
       "    <tr>\n",
       "      <th>5</th>\n",
       "      <td>6</td>\n",
       "      <td>1</td>\n",
       "      <td>1</td>\n",
       "      <td>2</td>\n",
       "      <td>5</td>\n",
       "    </tr>\n",
       "    <tr>\n",
       "      <th>6</th>\n",
       "      <td>7</td>\n",
       "      <td>1</td>\n",
       "      <td>1</td>\n",
       "      <td>3</td>\n",
       "      <td>5</td>\n",
       "    </tr>\n",
       "    <tr>\n",
       "      <th>7</th>\n",
       "      <td>8</td>\n",
       "      <td>1</td>\n",
       "      <td>1</td>\n",
       "      <td>3</td>\n",
       "      <td>4</td>\n",
       "    </tr>\n",
       "    <tr>\n",
       "      <th>8</th>\n",
       "      <td>9</td>\n",
       "      <td>1</td>\n",
       "      <td>1</td>\n",
       "      <td>3</td>\n",
       "      <td>4</td>\n",
       "    </tr>\n",
       "    <tr>\n",
       "      <th>9</th>\n",
       "      <td>10</td>\n",
       "      <td>1</td>\n",
       "      <td>1</td>\n",
       "      <td>2</td>\n",
       "      <td>5</td>\n",
       "    </tr>\n",
       "  </tbody>\n",
       "</table>\n",
       "</div>"
      ],
      "text/plain": [
       "   TOMATO ID  LONGEVITY(IN DAYS)  TEXTURE  COLOUR  QUALITY(5 STAR )\n",
       "0          1                   1        1       3                 5\n",
       "1          2                   1        1       3                 5\n",
       "2          3                   1        1       2                 5\n",
       "3          4                   1        1       3                 5\n",
       "4          5                   1        1       2                 4\n",
       "5          6                   1        1       2                 5\n",
       "6          7                   1        1       3                 5\n",
       "7          8                   1        1       3                 4\n",
       "8          9                   1        1       3                 4\n",
       "9         10                   1        1       2                 5"
      ]
     },
     "execution_count": 2,
     "metadata": {},
     "output_type": "execute_result"
    }
   ],
   "source": [
    "cell_df = pd.read_csv('tomato_data.csv')\n",
    "cell_df.head(10)\n"
   ]
  },
  {
   "cell_type": "code",
   "execution_count": 3,
   "metadata": {},
   "outputs": [
    {
     "data": {
      "text/html": [
       "<div>\n",
       "<style scoped>\n",
       "    .dataframe tbody tr th:only-of-type {\n",
       "        vertical-align: middle;\n",
       "    }\n",
       "\n",
       "    .dataframe tbody tr th {\n",
       "        vertical-align: top;\n",
       "    }\n",
       "\n",
       "    .dataframe thead th {\n",
       "        text-align: right;\n",
       "    }\n",
       "</style>\n",
       "<table border=\"1\" class=\"dataframe\">\n",
       "  <thead>\n",
       "    <tr style=\"text-align: right;\">\n",
       "      <th></th>\n",
       "      <th>TOMATO ID</th>\n",
       "      <th>LONGEVITY(IN DAYS)</th>\n",
       "      <th>TEXTURE</th>\n",
       "      <th>COLOUR</th>\n",
       "      <th>QUALITY(5 STAR )</th>\n",
       "    </tr>\n",
       "  </thead>\n",
       "  <tbody>\n",
       "    <tr>\n",
       "      <th>605</th>\n",
       "      <td>606</td>\n",
       "      <td>7</td>\n",
       "      <td>3</td>\n",
       "      <td>3</td>\n",
       "      <td>3</td>\n",
       "    </tr>\n",
       "    <tr>\n",
       "      <th>606</th>\n",
       "      <td>607</td>\n",
       "      <td>7</td>\n",
       "      <td>3</td>\n",
       "      <td>3</td>\n",
       "      <td>3</td>\n",
       "    </tr>\n",
       "    <tr>\n",
       "      <th>607</th>\n",
       "      <td>608</td>\n",
       "      <td>7</td>\n",
       "      <td>3</td>\n",
       "      <td>3</td>\n",
       "      <td>3</td>\n",
       "    </tr>\n",
       "    <tr>\n",
       "      <th>608</th>\n",
       "      <td>609</td>\n",
       "      <td>7</td>\n",
       "      <td>3</td>\n",
       "      <td>3</td>\n",
       "      <td>3</td>\n",
       "    </tr>\n",
       "    <tr>\n",
       "      <th>609</th>\n",
       "      <td>610</td>\n",
       "      <td>7</td>\n",
       "      <td>3</td>\n",
       "      <td>3</td>\n",
       "      <td>3</td>\n",
       "    </tr>\n",
       "    <tr>\n",
       "      <th>610</th>\n",
       "      <td>611</td>\n",
       "      <td>7</td>\n",
       "      <td>3</td>\n",
       "      <td>3</td>\n",
       "      <td>3</td>\n",
       "    </tr>\n",
       "    <tr>\n",
       "      <th>611</th>\n",
       "      <td>612</td>\n",
       "      <td>7</td>\n",
       "      <td>3</td>\n",
       "      <td>3</td>\n",
       "      <td>3</td>\n",
       "    </tr>\n",
       "    <tr>\n",
       "      <th>612</th>\n",
       "      <td>613</td>\n",
       "      <td>7</td>\n",
       "      <td>3</td>\n",
       "      <td>3</td>\n",
       "      <td>3</td>\n",
       "    </tr>\n",
       "    <tr>\n",
       "      <th>613</th>\n",
       "      <td>614</td>\n",
       "      <td>7</td>\n",
       "      <td>3</td>\n",
       "      <td>3</td>\n",
       "      <td>3</td>\n",
       "    </tr>\n",
       "    <tr>\n",
       "      <th>614</th>\n",
       "      <td>615</td>\n",
       "      <td>7</td>\n",
       "      <td>3</td>\n",
       "      <td>3</td>\n",
       "      <td>3</td>\n",
       "    </tr>\n",
       "  </tbody>\n",
       "</table>\n",
       "</div>"
      ],
      "text/plain": [
       "     TOMATO ID  LONGEVITY(IN DAYS)  TEXTURE  COLOUR  QUALITY(5 STAR )\n",
       "605        606                   7        3       3                 3\n",
       "606        607                   7        3       3                 3\n",
       "607        608                   7        3       3                 3\n",
       "608        609                   7        3       3                 3\n",
       "609        610                   7        3       3                 3\n",
       "610        611                   7        3       3                 3\n",
       "611        612                   7        3       3                 3\n",
       "612        613                   7        3       3                 3\n",
       "613        614                   7        3       3                 3\n",
       "614        615                   7        3       3                 3"
      ]
     },
     "execution_count": 3,
     "metadata": {},
     "output_type": "execute_result"
    }
   ],
   "source": [
    "cell_df.tail(10)\n",
    "\n"
   ]
  },
  {
   "cell_type": "markdown",
   "metadata": {},
   "source": [
    "# DIVIDING THE DATA INTO TRAIN/TEST DATA"
   ]
  },
  {
   "cell_type": "code",
   "execution_count": 4,
   "metadata": {},
   "outputs": [],
   "source": [
    "feature_df=cell_df[['LONGEVITY(IN DAYS)','TEXTURE',]]\n",
    "x=np.asarray(feature_df)\n",
    "y=np.asarray(cell_df['QUALITY(5 STAR )'])\n",
    "x_train,x_test,y_train,y_test=train_test_split(x,y, test_size=0.20, random_state=0)"
   ]
  },
  {
   "cell_type": "markdown",
   "metadata": {},
   "source": [
    "# MODELING WITH SVM(SCIKIT-LEARN)"
   ]
  },
  {
   "cell_type": "code",
   "execution_count": 5,
   "metadata": {},
   "outputs": [
    {
     "data": {
      "image/png": "[encoded data removed]",
      "text/plain": [
       "<Figure size 432x288 with 1 Axes>"
      ]
     },
     "metadata": {
      "needs_background": "light"
     },
     "output_type": "display_data"
    }
   ],
   "source": [
    "from sklearn import svm\n",
    "pca = PCA(n_components=2).fit(x_train)\n",
    "pca_2d = pca.transform(x_train)\n",
    "classifier=svm.SVC(kernel='rbf',gamma='auto', C=2, random_state=0)\n",
    "classifier.fit(pca_2d, y_train)\n",
    "for i in range(0,pca_2d.shape[0]):\n",
    "    if y_train[i]==5:\n",
    "       c1=pl.scatter(pca_2d[i,0],pca_2d[i,1],  c='r', marker='x')\n",
    "    elif y_train[i]==4:\n",
    "       c2= pl.scatter(pca_2d[i,0], pca_2d[i,1] ,c='g', marker='*')\n",
    "    elif y_train[i]==3:\n",
    "       c3= pl.scatter(pca_2d[i,0], pca_2d[i,1], c='b', marker='+')\n",
    "pl.legend([c1,c2,c3],['HEALTHY','FAIR','DEFECTIVE'])\n",
    "x_min, x_max = pca_2d[:, 0].min() - 1,   pca_2d[:,0].max() + 2\n",
    "y_min, y_max = pca_2d[:, 1].min() - 1,   pca_2d[:, 1].max() + 2\n",
    "xx, yy = np.meshgrid(np.arange(x_min, x_max, .02),   np.arange(y_min, y_max, .02))\n",
    "\n",
    "Z = classifier.predict(np.c_[xx.ravel(),  yy.ravel()])\n",
    "Z = Z.reshape(xx.shape)\n",
    "pl.contour(xx, yy,Z)\n",
    "\n",
    "pl.title('Support Vector Machine Decision Surface(RBF KERNEL)')\n",
    "pl.axis('on')\n",
    "pl.ylabel(\"longevity(in 7 days)\")\n",
    "pl.xlabel(\"texture\")\n",
    "\n",
    "pl.show()\n",
    "\n",
    "\n"
   ]
  },
  {
   "cell_type": "code",
   "execution_count": 6,
   "metadata": {},
   "outputs": [
    {
     "name": "stdout",
     "output_type": "stream",
     "text": [
      "              precision    recall  f1-score   support\n",
      "\n",
      "           3       0.95      0.90      0.92        39\n",
      "           4       0.64      0.69      0.67        26\n",
      "           5       0.86      0.86      0.86        58\n",
      "\n",
      "   micro avg       0.84      0.84      0.84       123\n",
      "   macro avg       0.82      0.82      0.82       123\n",
      "weighted avg       0.84      0.84      0.84       123\n",
      "\n"
     ]
    }
   ],
   "source": [
    "from sklearn.metrics import classification_report\n",
    "classifier.fit(x_train, y_train)\n",
    "Z=classifier.predict(x_test)\n",
    "print(classification_report(y_test, Z))"
   ]
  },
  {
   "cell_type": "code",
   "execution_count": 7,
   "metadata": {},
   "outputs": [
    {
     "data": {
      "image/png": "[encoded data removed]",
      "text/plain": [
       "<Figure size 432x288 with 1 Axes>"
      ]
     },
     "metadata": {
      "needs_background": "light"
     },
     "output_type": "display_data"
    }
   ],
   "source": [
    "from sklearn import svm\n",
    "pca = PCA(n_components=2).fit(x_train)\n",
    "pca_2d = pca.transform(x_train)\n",
    "classifier=svm.SVC(kernel='poly',gamma='auto', random_state=0)\n",
    "classifier.fit(pca_2d, y_train)\n",
    "for i in range(0,pca_2d.shape[0]):\n",
    "    if y_train[i]==5:\n",
    "       c1=pl.scatter(pca_2d[i,0],pca_2d[i,1],  c='r', marker='x')\n",
    "    elif y_train[i]==4:\n",
    "       c2= pl.scatter(pca_2d[i,0], pca_2d[i,1] ,c='g', marker='*')\n",
    "    elif y_train[i]==3:\n",
    "       c3= pl.scatter(pca_2d[i,0], pca_2d[i,1], c='b', marker='+')\n",
    "pl.legend([c1,c2,c3],['HEALTHY','FAIR','DEFECTIVE'])\n",
    "x_min, x_max = pca_2d[:, 0].min() - 1,   pca_2d[:,0].max() + 2\n",
    "y_min, y_max = pca_2d[:, 1].min() - 1,   pca_2d[:, 1].max() + 2\n",
    "xx, yy = np.meshgrid(np.arange(x_min, x_max, .02),   np.arange(y_min, y_max, .02))\n",
    "\n",
    "Z = classifier.predict(np.c_[xx.ravel(),  yy.ravel()])\n",
    "Z = Z.reshape(xx.shape)\n",
    "pl.contour(xx, yy,Z)\n",
    "\n",
    "pl.title('Support Vector Machine Decision Surface(POLYNOMIAL KERNEL)')\n",
    "pl.axis('on')\n",
    "pl.ylabel(\"longevity(in 7 days)\")\n",
    "pl.xlabel(\"texture\")\n",
    "\n",
    "pl.show()\n",
    "\n",
    "\n"
   ]
  },
  {
   "cell_type": "markdown",
   "metadata": {},
   "source": [
    "# EVALUATION AND RESULTS"
   ]
  },
  {
   "cell_type": "code",
   "execution_count": 8,
   "metadata": {},
   "outputs": [
    {
     "name": "stdout",
     "output_type": "stream",
     "text": [
      "              precision    recall  f1-score   support\n",
      "\n",
      "           3       0.97      0.72      0.82        39\n",
      "           4       0.50      0.69      0.58        26\n",
      "           5       0.86      0.86      0.86        58\n",
      "\n",
      "   micro avg       0.78      0.78      0.78       123\n",
      "   macro avg       0.78      0.76      0.76       123\n",
      "weighted avg       0.82      0.78      0.79       123\n",
      "\n"
     ]
    }
   ],
   "source": [
    "from sklearn.metrics import classification_report\n",
    "classifier.fit(x_train, y_train)\n",
    "Z=classifier.predict(x_test)\n",
    "print(classification_report(y_test, Z))"
   ]
  },
  {
   "cell_type": "code",
   "execution_count": 9,
   "metadata": {},
   "outputs": [
    {
     "data": {
      "image/png": "[encoded data removed]",
      "text/plain": [
       "<Figure size 432x288 with 1 Axes>"
      ]
     },
     "metadata": {
      "needs_background": "light"
     },
     "output_type": "display_data"
    }
   ],
   "source": [
    "from sklearn import svm\n",
    "pca = PCA(n_components=2).fit(x_train)\n",
    "pca_2d = pca.transform(x_train)\n",
    "classifier=svm.SVC(kernel='linear',gamma='auto', C=2, random_state=0)\n",
    "classifier.fit(pca_2d, y_train)\n",
    "for i in range(0,pca_2d.shape[0]):\n",
    "    if y_train[i]==5:\n",
    "       c1=pl.scatter(pca_2d[i,0],pca_2d[i,1],  c='r', marker='x')\n",
    "    elif y_train[i]==4:\n",
    "       c2= pl.scatter(pca_2d[i,0], pca_2d[i,1] ,c='g', marker='*')\n",
    "    elif y_train[i]==3:\n",
    "       c3= pl.scatter(pca_2d[i,0], pca_2d[i,1], c='b', marker='+')\n",
    "pl.legend([c1,c2,c3],['HEALTHY','FAIR','DEFECTIVE'])\n",
    "x_min, x_max = pca_2d[:, 0].min() - 1,   pca_2d[:,0].max() + 2\n",
    "y_min, y_max = pca_2d[:, 1].min() - 1,   pca_2d[:, 1].max() + 2\n",
    "xx, yy = np.meshgrid(np.arange(x_min, x_max, .02),   np.arange(y_min, y_max, .02))\n",
    "\n",
    "Z = classifier.predict(np.c_[xx.ravel(),  yy.ravel()])\n",
    "Z = Z.reshape(xx.shape)\n",
    "pl.contour(xx, yy,Z)\n",
    "\n",
    "pl.title('Support Vector Machine Decision Surface(LINEAR KERNEL)')\n",
    "pl.axis('on')\n",
    "pl.ylabel(\"longevity(in 7 days)\")\n",
    "pl.xlabel(\"texture\")\n",
    "\n",
    "pl.show()\n",
    "\n",
    "\n"
   ]
  },
  {
   "cell_type": "code",
   "execution_count": 10,
   "metadata": {},
   "outputs": [
    {
     "name": "stdout",
     "output_type": "stream",
     "text": [
      "              precision    recall  f1-score   support\n",
      "\n",
      "           3       0.97      0.72      0.82        39\n",
      "           4       0.50      0.69      0.58        26\n",
      "           5       0.86      0.86      0.86        58\n",
      "\n",
      "   micro avg       0.78      0.78      0.78       123\n",
      "   macro avg       0.78      0.76      0.76       123\n",
      "weighted avg       0.82      0.78      0.79       123\n",
      "\n"
     ]
    }
   ],
   "source": [
    "from sklearn.metrics import classification_report\n",
    "classifier.fit(x_train, y_train)\n",
    "Z=classifier.predict(x_test)\n",
    "print(classification_report(y_test, Z))"
   ]
  },
  {
   "cell_type": "code",
   "execution_count": null,
   "metadata": {},
   "outputs": [],
   "source": []
  }
 ],
 "metadata": {
  "kernelspec": {
   "display_name": "Python 3",
   "language": "python",
   "name": "python3"
  },
  "language_info": {
   "codemirror_mode": {
    "name": "ipython",
    "version": 3
   },
   "file_extension": ".py",
   "mimetype": "text/x-python",
   "name": "python",
   "nbconvert_exporter": "python",
   "pygments_lexer": "ipython3",
   "version": "3.7.1"
  }
 },
 "nbformat": 4,
 "nbformat_minor": 2
}
