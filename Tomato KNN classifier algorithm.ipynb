{
 "cells": [
  {
   "cell_type": "code",
   "execution_count": 2,
   "metadata": {},
   "outputs": [],
   "source": [
    "#Making use of KNN for classification"
   ]
  },
  {
   "cell_type": "code",
   "execution_count": 3,
   "metadata": {},
   "outputs": [
    {
     "name": "stdout",
     "output_type": "stream",
     "text": [
      "setup right\n"
     ]
    }
   ],
   "source": [
    "#Importing neccessary libraries.\n",
    "import numpy as np\n",
    "import pandas as pd\n",
    "import matplotlib.pyplot as plt \n",
    "plt.style.use('seaborn-whitegrid')\n",
    "%matplotlib inline\n",
    "import seaborn as sns\n",
    "from sklearn.metrics import mean_absolute_error\n",
    "from sklearn.model_selection import train_test_split\n",
    "from sklearn.decomposition import PCA \n",
    "import pylab as pl\n",
    "from sklearn.tree import DecisionTreeRegressor\n",
    "from sklearn.ensemble import RandomForestRegressor\n",
    "from sklearn.neighbors import KNeighborsClassifier\n",
    "print(\"setup right\")"
   ]
  },
  {
   "cell_type": "code",
   "execution_count": 4,
   "metadata": {},
   "outputs": [
    {
     "data": {
      "text/html": [
       "<div>\n",
       "<style scoped>\n",
       "    .dataframe tbody tr th:only-of-type {\n",
       "        vertical-align: middle;\n",
       "    }\n",
       "\n",
       "    .dataframe tbody tr th {\n",
       "        vertical-align: top;\n",
       "    }\n",
       "\n",
       "    .dataframe thead th {\n",
       "        text-align: right;\n",
       "    }\n",
       "</style>\n",
       "<table border=\"1\" class=\"dataframe\">\n",
       "  <thead>\n",
       "    <tr style=\"text-align: right;\">\n",
       "      <th></th>\n",
       "      <th>TOMATO ID</th>\n",
       "      <th>LONGEVITY(IN DAYS)</th>\n",
       "      <th>TEXTURE</th>\n",
       "      <th>COLOUR</th>\n",
       "      <th>QUALITY(5 STAR )</th>\n",
       "    </tr>\n",
       "  </thead>\n",
       "  <tbody>\n",
       "    <tr>\n",
       "      <th>0</th>\n",
       "      <td>1</td>\n",
       "      <td>1</td>\n",
       "      <td>1</td>\n",
       "      <td>3</td>\n",
       "      <td>5</td>\n",
       "    </tr>\n",
       "    <tr>\n",
       "      <th>1</th>\n",
       "      <td>2</td>\n",
       "      <td>1</td>\n",
       "      <td>1</td>\n",
       "      <td>3</td>\n",
       "      <td>5</td>\n",
       "    </tr>\n",
       "    <tr>\n",
       "      <th>2</th>\n",
       "      <td>3</td>\n",
       "      <td>1</td>\n",
       "      <td>1</td>\n",
       "      <td>2</td>\n",
       "      <td>5</td>\n",
       "    </tr>\n",
       "  </tbody>\n",
       "</table>\n",
       "</div>"
      ],
      "text/plain": [
       "   TOMATO ID  LONGEVITY(IN DAYS)  TEXTURE  COLOUR  QUALITY(5 STAR )\n",
       "0          1                   1        1       3                 5\n",
       "1          2                   1        1       3                 5\n",
       "2          3                   1        1       2                 5"
      ]
     },
     "execution_count": 4,
     "metadata": {},
     "output_type": "execute_result"
    }
   ],
   "source": [
    "#loading the dataset \n",
    "tomato_data = pd.read_csv(r'C:\\Users\\joseph\\Documents\\tomato_data.csv')\n",
    "tomato_data.head(3)"
   ]
  },
  {
   "cell_type": "code",
   "execution_count": 5,
   "metadata": {},
   "outputs": [
    {
     "data": {
      "text/plain": [
       "False"
      ]
     },
     "execution_count": 5,
     "metadata": {},
     "output_type": "execute_result"
    }
   ],
   "source": [
    "#checking for null/nan values.\n",
    "tomato_data.isnull().values.any()"
   ]
  },
  {
   "cell_type": "code",
   "execution_count": 6,
   "metadata": {},
   "outputs": [
    {
     "name": "stdout",
     "output_type": "stream",
     "text": [
      "<class 'pandas.core.frame.DataFrame'>\n",
      "RangeIndex: 615 entries, 0 to 614\n",
      "Data columns (total 5 columns):\n",
      "TOMATO ID             615 non-null int64\n",
      "LONGEVITY(IN DAYS)    615 non-null int64\n",
      "TEXTURE               615 non-null int64\n",
      "COLOUR                615 non-null int64\n",
      "QUALITY(5 STAR )      615 non-null int64\n",
      "dtypes: int64(5)\n",
      "memory usage: 24.1 KB\n"
     ]
    },
    {
     "data": {
      "text/plain": [
       "Index(['TOMATO ID', 'LONGEVITY(IN DAYS)', 'TEXTURE', 'COLOUR',\n",
       "       'QUALITY(5 STAR )'],\n",
       "      dtype='object')"
      ]
     },
     "execution_count": 6,
     "metadata": {},
     "output_type": "execute_result"
    }
   ],
   "source": [
    "tomato_data.info()\n",
    "tomato_data.columns"
   ]
  },
  {
   "cell_type": "code",
   "execution_count": 7,
   "metadata": {},
   "outputs": [
    {
     "data": {
      "text/plain": [
       "(615, 5)"
      ]
     },
     "execution_count": 7,
     "metadata": {},
     "output_type": "execute_result"
    }
   ],
   "source": [
    "tomato_data.shape"
   ]
  },
  {
   "cell_type": "code",
   "execution_count": 8,
   "metadata": {},
   "outputs": [
    {
     "data": {
      "text/html": [
       "<div>\n",
       "<style scoped>\n",
       "    .dataframe tbody tr th:only-of-type {\n",
       "        vertical-align: middle;\n",
       "    }\n",
       "\n",
       "    .dataframe tbody tr th {\n",
       "        vertical-align: top;\n",
       "    }\n",
       "\n",
       "    .dataframe thead th {\n",
       "        text-align: right;\n",
       "    }\n",
       "</style>\n",
       "<table border=\"1\" class=\"dataframe\">\n",
       "  <thead>\n",
       "    <tr style=\"text-align: right;\">\n",
       "      <th></th>\n",
       "      <th>TOMATO ID</th>\n",
       "      <th>LONGEVITY(IN DAYS)</th>\n",
       "      <th>TEXTURE</th>\n",
       "      <th>COLOUR</th>\n",
       "      <th>QUALITY(5 STAR )</th>\n",
       "    </tr>\n",
       "  </thead>\n",
       "  <tbody>\n",
       "    <tr>\n",
       "      <th>count</th>\n",
       "      <td>615.000000</td>\n",
       "      <td>615.000000</td>\n",
       "      <td>615.000000</td>\n",
       "      <td>615.000000</td>\n",
       "      <td>615.000000</td>\n",
       "    </tr>\n",
       "    <tr>\n",
       "      <th>mean</th>\n",
       "      <td>308.000000</td>\n",
       "      <td>3.655285</td>\n",
       "      <td>1.736585</td>\n",
       "      <td>2.817886</td>\n",
       "      <td>4.182114</td>\n",
       "    </tr>\n",
       "    <tr>\n",
       "      <th>std</th>\n",
       "      <td>177.679487</td>\n",
       "      <td>1.884672</td>\n",
       "      <td>0.802406</td>\n",
       "      <td>0.418628</td>\n",
       "      <td>0.857619</td>\n",
       "    </tr>\n",
       "    <tr>\n",
       "      <th>min</th>\n",
       "      <td>1.000000</td>\n",
       "      <td>1.000000</td>\n",
       "      <td>1.000000</td>\n",
       "      <td>1.000000</td>\n",
       "      <td>3.000000</td>\n",
       "    </tr>\n",
       "    <tr>\n",
       "      <th>25%</th>\n",
       "      <td>154.500000</td>\n",
       "      <td>2.000000</td>\n",
       "      <td>1.000000</td>\n",
       "      <td>3.000000</td>\n",
       "      <td>3.000000</td>\n",
       "    </tr>\n",
       "    <tr>\n",
       "      <th>50%</th>\n",
       "      <td>308.000000</td>\n",
       "      <td>4.000000</td>\n",
       "      <td>2.000000</td>\n",
       "      <td>3.000000</td>\n",
       "      <td>4.000000</td>\n",
       "    </tr>\n",
       "    <tr>\n",
       "      <th>75%</th>\n",
       "      <td>461.500000</td>\n",
       "      <td>5.000000</td>\n",
       "      <td>2.000000</td>\n",
       "      <td>3.000000</td>\n",
       "      <td>5.000000</td>\n",
       "    </tr>\n",
       "    <tr>\n",
       "      <th>max</th>\n",
       "      <td>615.000000</td>\n",
       "      <td>7.000000</td>\n",
       "      <td>3.000000</td>\n",
       "      <td>3.000000</td>\n",
       "      <td>5.000000</td>\n",
       "    </tr>\n",
       "  </tbody>\n",
       "</table>\n",
       "</div>"
      ],
      "text/plain": [
       "        TOMATO ID  LONGEVITY(IN DAYS)     TEXTURE      COLOUR  \\\n",
       "count  615.000000          615.000000  615.000000  615.000000   \n",
       "mean   308.000000            3.655285    1.736585    2.817886   \n",
       "std    177.679487            1.884672    0.802406    0.418628   \n",
       "min      1.000000            1.000000    1.000000    1.000000   \n",
       "25%    154.500000            2.000000    1.000000    3.000000   \n",
       "50%    308.000000            4.000000    2.000000    3.000000   \n",
       "75%    461.500000            5.000000    2.000000    3.000000   \n",
       "max    615.000000            7.000000    3.000000    3.000000   \n",
       "\n",
       "       QUALITY(5 STAR )  \n",
       "count        615.000000  \n",
       "mean           4.182114  \n",
       "std            0.857619  \n",
       "min            3.000000  \n",
       "25%            3.000000  \n",
       "50%            4.000000  \n",
       "75%            5.000000  \n",
       "max            5.000000  "
      ]
     },
     "execution_count": 8,
     "metadata": {},
     "output_type": "execute_result"
    }
   ],
   "source": [
    "tomato_data.describe()"
   ]
  },
  {
   "cell_type": "code",
   "execution_count": 9,
   "metadata": {},
   "outputs": [
    {
     "data": {
      "text/html": [
       "<div>\n",
       "<style scoped>\n",
       "    .dataframe tbody tr th:only-of-type {\n",
       "        vertical-align: middle;\n",
       "    }\n",
       "\n",
       "    .dataframe tbody tr th {\n",
       "        vertical-align: top;\n",
       "    }\n",
       "\n",
       "    .dataframe thead th {\n",
       "        text-align: right;\n",
       "    }\n",
       "</style>\n",
       "<table border=\"1\" class=\"dataframe\">\n",
       "  <thead>\n",
       "    <tr style=\"text-align: right;\">\n",
       "      <th></th>\n",
       "      <th>TOMATO ID</th>\n",
       "      <th>LONGEVITY(IN DAYS)</th>\n",
       "      <th>TEXTURE</th>\n",
       "      <th>COLOUR</th>\n",
       "      <th>QUALITY(5 STAR )</th>\n",
       "    </tr>\n",
       "  </thead>\n",
       "  <tbody>\n",
       "    <tr>\n",
       "      <th>TOMATO ID</th>\n",
       "      <td>1.000000</td>\n",
       "      <td>0.985435</td>\n",
       "      <td>0.619521</td>\n",
       "      <td>0.156382</td>\n",
       "      <td>-0.625702</td>\n",
       "    </tr>\n",
       "    <tr>\n",
       "      <th>LONGEVITY(IN DAYS)</th>\n",
       "      <td>0.985435</td>\n",
       "      <td>1.000000</td>\n",
       "      <td>0.630193</td>\n",
       "      <td>0.176272</td>\n",
       "      <td>-0.618073</td>\n",
       "    </tr>\n",
       "    <tr>\n",
       "      <th>TEXTURE</th>\n",
       "      <td>0.619521</td>\n",
       "      <td>0.630193</td>\n",
       "      <td>1.000000</td>\n",
       "      <td>0.201202</td>\n",
       "      <td>-0.850823</td>\n",
       "    </tr>\n",
       "    <tr>\n",
       "      <th>COLOUR</th>\n",
       "      <td>0.156382</td>\n",
       "      <td>0.176272</td>\n",
       "      <td>0.201202</td>\n",
       "      <td>1.000000</td>\n",
       "      <td>-0.143364</td>\n",
       "    </tr>\n",
       "    <tr>\n",
       "      <th>QUALITY(5 STAR )</th>\n",
       "      <td>-0.625702</td>\n",
       "      <td>-0.618073</td>\n",
       "      <td>-0.850823</td>\n",
       "      <td>-0.143364</td>\n",
       "      <td>1.000000</td>\n",
       "    </tr>\n",
       "  </tbody>\n",
       "</table>\n",
       "</div>"
      ],
      "text/plain": [
       "                    TOMATO ID  LONGEVITY(IN DAYS)   TEXTURE    COLOUR  \\\n",
       "TOMATO ID            1.000000            0.985435  0.619521  0.156382   \n",
       "LONGEVITY(IN DAYS)   0.985435            1.000000  0.630193  0.176272   \n",
       "TEXTURE              0.619521            0.630193  1.000000  0.201202   \n",
       "COLOUR               0.156382            0.176272  0.201202  1.000000   \n",
       "QUALITY(5 STAR )    -0.625702           -0.618073 -0.850823 -0.143364   \n",
       "\n",
       "                    QUALITY(5 STAR )  \n",
       "TOMATO ID                  -0.625702  \n",
       "LONGEVITY(IN DAYS)         -0.618073  \n",
       "TEXTURE                    -0.850823  \n",
       "COLOUR                     -0.143364  \n",
       "QUALITY(5 STAR )            1.000000  "
      ]
     },
     "execution_count": 9,
     "metadata": {},
     "output_type": "execute_result"
    }
   ],
   "source": [
    "tomato_data.corr()"
   ]
  },
  {
   "cell_type": "code",
   "execution_count": 10,
   "metadata": {},
   "outputs": [],
   "source": [
    "#Need to drop Tomato ID, Colour.\n",
    "tomato_data.drop(\"TOMATO ID\", axis=1,inplace=True)\n",
    "tomato_data.drop(\"COLOUR\", axis=1,inplace=True)"
   ]
  },
  {
   "cell_type": "code",
   "execution_count": 11,
   "metadata": {},
   "outputs": [
    {
     "data": {
      "text/plain": [
       "Index(['LONGEVITY(IN DAYS)', 'TEXTURE', 'QUALITY(5 STAR )'], dtype='object')"
      ]
     },
     "execution_count": 11,
     "metadata": {},
     "output_type": "execute_result"
    }
   ],
   "source": [
    "tomato_data.columns"
   ]
  },
  {
   "cell_type": "code",
   "execution_count": 19,
   "metadata": {},
   "outputs": [
    {
     "name": "stderr",
     "output_type": "stream",
     "text": [
      "C:\\Users\\joseph\\Anaconda3\\lib\\site-packages\\sklearn\\preprocessing\\data.py:625: DataConversionWarning: Data with input dtype int64 were all converted to float64 by StandardScaler.\n",
      "  return self.partial_fit(X, y)\n",
      "C:\\Users\\joseph\\Anaconda3\\lib\\site-packages\\sklearn\\base.py:462: DataConversionWarning: Data with input dtype int64 were all converted to float64 by StandardScaler.\n",
      "  return self.fit(X, **fit_params).transform(X)\n",
      "C:\\Users\\joseph\\Anaconda3\\lib\\site-packages\\ipykernel_launcher.py:19: DataConversionWarning: Data with input dtype int64 were all converted to float64 by StandardScaler.\n"
     ]
    },
    {
     "data": {
      "text/plain": [
       "KNeighborsClassifier(algorithm='auto', leaf_size=30, metric='minkowski',\n",
       "           metric_params=None, n_jobs=None, n_neighbors=5, p=2,\n",
       "           weights='uniform')"
      ]
     },
     "execution_count": 19,
     "metadata": {},
     "output_type": "execute_result"
    }
   ],
   "source": [
    "#Dividing the data into attributes and labels.\n",
    "X = tomato_data.drop('QUALITY(5 STAR )', axis=1)\n",
    "y = tomato_data['QUALITY(5 STAR )']\n",
    "#X_test.fillna(X_train.mean(), inplace=True)\n",
    "\n",
    "#The final preprocessing step is to divide our data into training and test sets.\n",
    "# Import train_test_split function\n",
    "from sklearn.model_selection import train_test_split#Import knearest neighbors Classifier model\n",
    "from sklearn.neighbors import KNeighborsClassifier\n",
    "\n",
    "# Splitting the dataset into training and test set.  \n",
    "from sklearn.model_selection import train_test_split  \n",
    "X_train, X_test, y_train, y_test= train_test_split(X, y, test_size= 0.25, random_state=0)  \n",
    "  \n",
    "#feature Scaling  \n",
    "from sklearn.preprocessing import StandardScaler    \n",
    "st_x= StandardScaler()    \n",
    "X_train= st_x.fit_transform(X_train)    \n",
    "X_test= st_x.transform(X_test)  \n",
    "\n",
    "#Fitting K-NN classifier to the training set  \n",
    "from sklearn.neighbors import KNeighborsClassifier  \n",
    "classifier= KNeighborsClassifier(n_neighbors=5, metric='minkowski', p=2 )  \n",
    "classifier.fit(X_train, y_train)  \n",
    "\n"
   ]
  },
  {
   "cell_type": "code",
   "execution_count": 20,
   "metadata": {},
   "outputs": [],
   "source": [
    "#Getting the predictions.\n",
    "#Predicting the test set result  \n",
    "y_pred= classifier.predict(X_test)  "
   ]
  },
  {
   "cell_type": "code",
   "execution_count": 21,
   "metadata": {},
   "outputs": [
    {
     "name": "stdout",
     "output_type": "stream",
     "text": [
      "[[41  6  1]\n",
      " [ 3 24  8]\n",
      " [ 1  7 63]]\n",
      "              precision    recall  f1-score   support\n",
      "\n",
      "           3       0.91      0.85      0.88        48\n",
      "           4       0.65      0.69      0.67        35\n",
      "           5       0.88      0.89      0.88        71\n",
      "\n",
      "   micro avg       0.83      0.83      0.83       154\n",
      "   macro avg       0.81      0.81      0.81       154\n",
      "weighted avg       0.83      0.83      0.83       154\n",
      "\n"
     ]
    }
   ],
   "source": [
    "#Evaluating the Algorithm\n",
    "#Creating the Confusion matrix  \n",
    "from sklearn.metrics import confusion_matrix  \n",
    "from sklearn.metrics import classification_report, confusion_matrix\n",
    "print(confusion_matrix(y_test, y_pred))\n",
    "print(classification_report(y_test, y_pred))"
   ]
  }
 ],
 "metadata": {
  "kernelspec": {
   "display_name": "Python 3",
   "language": "python",
   "name": "python3"
  },
  "language_info": {
   "codemirror_mode": {
    "name": "ipython",
    "version": 3
   },
   "file_extension": ".py",
   "mimetype": "text/x-python",
   "name": "python",
   "nbconvert_exporter": "python",
   "pygments_lexer": "ipython3",
   "version": "3.7.1"
  }
 },
 "nbformat": 4,
 "nbformat_minor": 2
}
