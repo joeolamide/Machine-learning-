{
 "cells": [
  {
   "cell_type": "code",
   "execution_count": 3,
   "metadata": {},
   "outputs": [],
   "source": [
    "#import the neccessary libraries"
   ]
  },
  {
   "cell_type": "code",
   "execution_count": 4,
   "metadata": {},
   "outputs": [
    {
     "name": "stdout",
     "output_type": "stream",
     "text": [
      "setup right\n"
     ]
    }
   ],
   "source": [
    "import numpy as np\n",
    "import pandas as pd\n",
    "import matplotlib.pyplot as plt \n",
    "%matplotlib inline\n",
    "import seaborn as sns\n",
    "from sklearn.metrics import mean_absolute_error\n",
    "from sklearn.model_selection import train_test_split\n",
    "from sklearn.decomposition import PCA \n",
    "import pylab as pl\n",
    "from sklearn.tree import DecisionTreeRegressor\n",
    "from sklearn.ensemble import RandomForestRegressor\n",
    "print(\"setup right\")"
   ]
  },
  {
   "cell_type": "code",
   "execution_count": 5,
   "metadata": {},
   "outputs": [
    {
     "data": {
      "text/html": [
       "<div>\n",
       "<style scoped>\n",
       "    .dataframe tbody tr th:only-of-type {\n",
       "        vertical-align: middle;\n",
       "    }\n",
       "\n",
       "    .dataframe tbody tr th {\n",
       "        vertical-align: top;\n",
       "    }\n",
       "\n",
       "    .dataframe thead th {\n",
       "        text-align: right;\n",
       "    }\n",
       "</style>\n",
       "<table border=\"1\" class=\"dataframe\">\n",
       "  <thead>\n",
       "    <tr style=\"text-align: right;\">\n",
       "      <th></th>\n",
       "      <th>SNo</th>\n",
       "      <th>Name</th>\n",
       "      <th>Symbol</th>\n",
       "      <th>Date</th>\n",
       "      <th>High</th>\n",
       "      <th>Low</th>\n",
       "      <th>Open</th>\n",
       "      <th>Close</th>\n",
       "      <th>Volume</th>\n",
       "      <th>Marketcap</th>\n",
       "    </tr>\n",
       "  </thead>\n",
       "  <tbody>\n",
       "    <tr>\n",
       "      <th>0</th>\n",
       "      <td>1</td>\n",
       "      <td>Aave</td>\n",
       "      <td>AAVE</td>\n",
       "      <td>2020-10-05 23:59:59</td>\n",
       "      <td>55.112358</td>\n",
       "      <td>49.787900</td>\n",
       "      <td>52.675035</td>\n",
       "      <td>53.219243</td>\n",
       "      <td>0.000000</td>\n",
       "      <td>8.912813e+07</td>\n",
       "    </tr>\n",
       "    <tr>\n",
       "      <th>1</th>\n",
       "      <td>2</td>\n",
       "      <td>Aave</td>\n",
       "      <td>AAVE</td>\n",
       "      <td>2020-10-06 23:59:59</td>\n",
       "      <td>53.402270</td>\n",
       "      <td>40.734578</td>\n",
       "      <td>53.291969</td>\n",
       "      <td>42.401599</td>\n",
       "      <td>583091.459763</td>\n",
       "      <td>7.101144e+07</td>\n",
       "    </tr>\n",
       "    <tr>\n",
       "      <th>2</th>\n",
       "      <td>3</td>\n",
       "      <td>Aave</td>\n",
       "      <td>AAVE</td>\n",
       "      <td>2020-10-07 23:59:59</td>\n",
       "      <td>42.408314</td>\n",
       "      <td>35.970690</td>\n",
       "      <td>42.399947</td>\n",
       "      <td>40.083976</td>\n",
       "      <td>682834.186323</td>\n",
       "      <td>6.713004e+07</td>\n",
       "    </tr>\n",
       "  </tbody>\n",
       "</table>\n",
       "</div>"
      ],
      "text/plain": [
       "   SNo  Name Symbol                 Date       High        Low       Open  \\\n",
       "0    1  Aave   AAVE  2020-10-05 23:59:59  55.112358  49.787900  52.675035   \n",
       "1    2  Aave   AAVE  2020-10-06 23:59:59  53.402270  40.734578  53.291969   \n",
       "2    3  Aave   AAVE  2020-10-07 23:59:59  42.408314  35.970690  42.399947   \n",
       "\n",
       "       Close         Volume     Marketcap  \n",
       "0  53.219243       0.000000  8.912813e+07  \n",
       "1  42.401599  583091.459763  7.101144e+07  \n",
       "2  40.083976  682834.186323  6.713004e+07  "
      ]
     },
     "execution_count": 5,
     "metadata": {},
     "output_type": "execute_result"
    }
   ],
   "source": [
    "#loading the dataset \n",
    "aave_data = pd.read_csv(r'C:\\Users\\joseph\\Documents\\coin_Aave.csv')\n",
    "aave_data.head(3)"
   ]
  },
  {
   "cell_type": "code",
   "execution_count": 6,
   "metadata": {},
   "outputs": [
    {
     "data": {
      "text/plain": [
       "False"
      ]
     },
     "execution_count": 6,
     "metadata": {},
     "output_type": "execute_result"
    }
   ],
   "source": [
    "#checking for null/nan values.\n",
    "aave_data.isnull().values.any()"
   ]
  },
  {
   "cell_type": "code",
   "execution_count": 7,
   "metadata": {},
   "outputs": [
    {
     "name": "stdout",
     "output_type": "stream",
     "text": [
      "<class 'pandas.core.frame.DataFrame'>\n",
      "RangeIndex: 146 entries, 0 to 145\n",
      "Data columns (total 10 columns):\n",
      "SNo          146 non-null int64\n",
      "Name         146 non-null object\n",
      "Symbol       146 non-null object\n",
      "Date         146 non-null object\n",
      "High         146 non-null float64\n",
      "Low          146 non-null float64\n",
      "Open         146 non-null float64\n",
      "Close        146 non-null float64\n",
      "Volume       146 non-null float64\n",
      "Marketcap    146 non-null float64\n",
      "dtypes: float64(6), int64(1), object(3)\n",
      "memory usage: 11.5+ KB\n"
     ]
    },
    {
     "data": {
      "text/plain": [
       "Index(['SNo', 'Name', 'Symbol', 'Date', 'High', 'Low', 'Open', 'Close',\n",
       "       'Volume', 'Marketcap'],\n",
       "      dtype='object')"
      ]
     },
     "execution_count": 7,
     "metadata": {},
     "output_type": "execute_result"
    }
   ],
   "source": [
    "aave_data.info()\n",
    "aave_data.columns"
   ]
  },
  {
   "cell_type": "code",
   "execution_count": 8,
   "metadata": {},
   "outputs": [
    {
     "data": {
      "text/html": [
       "<div>\n",
       "<style scoped>\n",
       "    .dataframe tbody tr th:only-of-type {\n",
       "        vertical-align: middle;\n",
       "    }\n",
       "\n",
       "    .dataframe tbody tr th {\n",
       "        vertical-align: top;\n",
       "    }\n",
       "\n",
       "    .dataframe thead th {\n",
       "        text-align: right;\n",
       "    }\n",
       "</style>\n",
       "<table border=\"1\" class=\"dataframe\">\n",
       "  <thead>\n",
       "    <tr style=\"text-align: right;\">\n",
       "      <th></th>\n",
       "      <th>SNo</th>\n",
       "      <th>High</th>\n",
       "      <th>Low</th>\n",
       "      <th>Open</th>\n",
       "      <th>Close</th>\n",
       "      <th>Volume</th>\n",
       "      <th>Marketcap</th>\n",
       "    </tr>\n",
       "  </thead>\n",
       "  <tbody>\n",
       "    <tr>\n",
       "      <th>count</th>\n",
       "      <td>146.000000</td>\n",
       "      <td>146.000000</td>\n",
       "      <td>146.000000</td>\n",
       "      <td>146.000000</td>\n",
       "      <td>146.000000</td>\n",
       "      <td>1.460000e+02</td>\n",
       "      <td>1.460000e+02</td>\n",
       "    </tr>\n",
       "    <tr>\n",
       "      <th>mean</th>\n",
       "      <td>73.500000</td>\n",
       "      <td>164.001100</td>\n",
       "      <td>142.949940</td>\n",
       "      <td>152.510304</td>\n",
       "      <td>154.511888</td>\n",
       "      <td>4.394728e+08</td>\n",
       "      <td>1.853665e+09</td>\n",
       "    </tr>\n",
       "    <tr>\n",
       "      <th>std</th>\n",
       "      <td>42.290661</td>\n",
       "      <td>156.486088</td>\n",
       "      <td>137.366237</td>\n",
       "      <td>146.198295</td>\n",
       "      <td>146.844868</td>\n",
       "      <td>4.377693e+08</td>\n",
       "      <td>1.856007e+09</td>\n",
       "    </tr>\n",
       "    <tr>\n",
       "      <th>min</th>\n",
       "      <td>1.000000</td>\n",
       "      <td>28.433069</td>\n",
       "      <td>25.966155</td>\n",
       "      <td>27.715080</td>\n",
       "      <td>27.715084</td>\n",
       "      <td>0.000000e+00</td>\n",
       "      <td>6.713004e+07</td>\n",
       "    </tr>\n",
       "    <tr>\n",
       "      <th>25%</th>\n",
       "      <td>37.250000</td>\n",
       "      <td>60.988168</td>\n",
       "      <td>50.418940</td>\n",
       "      <td>53.986936</td>\n",
       "      <td>54.746360</td>\n",
       "      <td>1.657845e+08</td>\n",
       "      <td>6.296389e+08</td>\n",
       "    </tr>\n",
       "    <tr>\n",
       "      <th>50%</th>\n",
       "      <td>73.500000</td>\n",
       "      <td>87.666625</td>\n",
       "      <td>77.500862</td>\n",
       "      <td>82.024712</td>\n",
       "      <td>82.770591</td>\n",
       "      <td>2.990149e+08</td>\n",
       "      <td>9.917703e+08</td>\n",
       "    </tr>\n",
       "    <tr>\n",
       "      <th>75%</th>\n",
       "      <td>109.750000</td>\n",
       "      <td>204.523318</td>\n",
       "      <td>183.928894</td>\n",
       "      <td>191.983494</td>\n",
       "      <td>196.576704</td>\n",
       "      <td>5.804791e+08</td>\n",
       "      <td>2.408807e+09</td>\n",
       "    </tr>\n",
       "    <tr>\n",
       "      <th>max</th>\n",
       "      <td>146.000000</td>\n",
       "      <td>559.122944</td>\n",
       "      <td>504.781660</td>\n",
       "      <td>529.829717</td>\n",
       "      <td>529.896175</td>\n",
       "      <td>2.838573e+09</td>\n",
       "      <td>6.558683e+09</td>\n",
       "    </tr>\n",
       "  </tbody>\n",
       "</table>\n",
       "</div>"
      ],
      "text/plain": [
       "              SNo        High         Low        Open       Close  \\\n",
       "count  146.000000  146.000000  146.000000  146.000000  146.000000   \n",
       "mean    73.500000  164.001100  142.949940  152.510304  154.511888   \n",
       "std     42.290661  156.486088  137.366237  146.198295  146.844868   \n",
       "min      1.000000   28.433069   25.966155   27.715080   27.715084   \n",
       "25%     37.250000   60.988168   50.418940   53.986936   54.746360   \n",
       "50%     73.500000   87.666625   77.500862   82.024712   82.770591   \n",
       "75%    109.750000  204.523318  183.928894  191.983494  196.576704   \n",
       "max    146.000000  559.122944  504.781660  529.829717  529.896175   \n",
       "\n",
       "             Volume     Marketcap  \n",
       "count  1.460000e+02  1.460000e+02  \n",
       "mean   4.394728e+08  1.853665e+09  \n",
       "std    4.377693e+08  1.856007e+09  \n",
       "min    0.000000e+00  6.713004e+07  \n",
       "25%    1.657845e+08  6.296389e+08  \n",
       "50%    2.990149e+08  9.917703e+08  \n",
       "75%    5.804791e+08  2.408807e+09  \n",
       "max    2.838573e+09  6.558683e+09  "
      ]
     },
     "execution_count": 8,
     "metadata": {},
     "output_type": "execute_result"
    }
   ],
   "source": [
    "aave_data.describe()"
   ]
  },
  {
   "cell_type": "code",
   "execution_count": 9,
   "metadata": {},
   "outputs": [],
   "source": [
    "#due to prior knowledge,machine model need just numbers to run smoothly,which means i will drop columns that contains object.\n",
    "aave_data.drop(\"SNo\", axis=1,inplace=True)\n",
    "aave_data.drop(\"Name\", axis=1,inplace=True)\n",
    "aave_data.drop(\"Symbol\", axis=1,inplace=True)\n",
    "aave_data.drop(\"Date\", axis=1,inplace=True)"
   ]
  },
  {
   "cell_type": "code",
   "execution_count": 10,
   "metadata": {},
   "outputs": [
    {
     "data": {
      "text/plain": [
       "Index(['High', 'Low', 'Open', 'Close', 'Volume', 'Marketcap'], dtype='object')"
      ]
     },
     "execution_count": 10,
     "metadata": {},
     "output_type": "execute_result"
    }
   ],
   "source": [
    "aave_data.columns"
   ]
  },
  {
   "cell_type": "code",
   "execution_count": 11,
   "metadata": {},
   "outputs": [
    {
     "data": {
      "text/html": [
       "<div>\n",
       "<style scoped>\n",
       "    .dataframe tbody tr th:only-of-type {\n",
       "        vertical-align: middle;\n",
       "    }\n",
       "\n",
       "    .dataframe tbody tr th {\n",
       "        vertical-align: top;\n",
       "    }\n",
       "\n",
       "    .dataframe thead th {\n",
       "        text-align: right;\n",
       "    }\n",
       "</style>\n",
       "<table border=\"1\" class=\"dataframe\">\n",
       "  <thead>\n",
       "    <tr style=\"text-align: right;\">\n",
       "      <th></th>\n",
       "      <th>High</th>\n",
       "      <th>Low</th>\n",
       "      <th>Open</th>\n",
       "      <th>Close</th>\n",
       "      <th>Volume</th>\n",
       "      <th>Marketcap</th>\n",
       "    </tr>\n",
       "  </thead>\n",
       "  <tbody>\n",
       "    <tr>\n",
       "      <th>High</th>\n",
       "      <td>1.000000</td>\n",
       "      <td>0.995618</td>\n",
       "      <td>0.994983</td>\n",
       "      <td>0.998802</td>\n",
       "      <td>0.841199</td>\n",
       "      <td>0.997456</td>\n",
       "    </tr>\n",
       "    <tr>\n",
       "      <th>Low</th>\n",
       "      <td>0.995618</td>\n",
       "      <td>1.000000</td>\n",
       "      <td>0.995816</td>\n",
       "      <td>0.996286</td>\n",
       "      <td>0.803515</td>\n",
       "      <td>0.994907</td>\n",
       "    </tr>\n",
       "    <tr>\n",
       "      <th>Open</th>\n",
       "      <td>0.994983</td>\n",
       "      <td>0.995816</td>\n",
       "      <td>1.000000</td>\n",
       "      <td>0.993871</td>\n",
       "      <td>0.800082</td>\n",
       "      <td>0.992609</td>\n",
       "    </tr>\n",
       "    <tr>\n",
       "      <th>Close</th>\n",
       "      <td>0.998802</td>\n",
       "      <td>0.996286</td>\n",
       "      <td>0.993871</td>\n",
       "      <td>1.000000</td>\n",
       "      <td>0.838803</td>\n",
       "      <td>0.998735</td>\n",
       "    </tr>\n",
       "    <tr>\n",
       "      <th>Volume</th>\n",
       "      <td>0.841199</td>\n",
       "      <td>0.803515</td>\n",
       "      <td>0.800082</td>\n",
       "      <td>0.838803</td>\n",
       "      <td>1.000000</td>\n",
       "      <td>0.842891</td>\n",
       "    </tr>\n",
       "    <tr>\n",
       "      <th>Marketcap</th>\n",
       "      <td>0.997456</td>\n",
       "      <td>0.994907</td>\n",
       "      <td>0.992609</td>\n",
       "      <td>0.998735</td>\n",
       "      <td>0.842891</td>\n",
       "      <td>1.000000</td>\n",
       "    </tr>\n",
       "  </tbody>\n",
       "</table>\n",
       "</div>"
      ],
      "text/plain": [
       "               High       Low      Open     Close    Volume  Marketcap\n",
       "High       1.000000  0.995618  0.994983  0.998802  0.841199   0.997456\n",
       "Low        0.995618  1.000000  0.995816  0.996286  0.803515   0.994907\n",
       "Open       0.994983  0.995816  1.000000  0.993871  0.800082   0.992609\n",
       "Close      0.998802  0.996286  0.993871  1.000000  0.838803   0.998735\n",
       "Volume     0.841199  0.803515  0.800082  0.838803  1.000000   0.842891\n",
       "Marketcap  0.997456  0.994907  0.992609  0.998735  0.842891   1.000000"
      ]
     },
     "execution_count": 11,
     "metadata": {},
     "output_type": "execute_result"
    }
   ],
   "source": [
    "aave_data.corr()"
   ]
  },
  {
   "cell_type": "code",
   "execution_count": 12,
   "metadata": {},
   "outputs": [],
   "source": [
    "#preparing my model for training and testing.\n",
    "#Taking my attributes and labels.\n",
    "#from the below code, i will train all volume(attribute) against Marketcap(label).\n",
    "\n",
    "X = aave_data.drop('Close',axis = 1)\n",
    "y = aave_data['Close']\n",
    "\n",
    "#splitting the data into testing set and training set.\n",
    "from sklearn.model_selection import train_test_split\n",
    "X_train, X_test, y_train, y_test = train_test_split(X, y, test_size = 0.2,random_state=0)\n",
    "#am using 20% from my data to test.\n",
    "\n",
    "# Fitting Decision Tree Regression to the dataset\n",
    "from sklearn.tree import DecisionTreeRegressor\n",
    "regressor = DecisionTreeRegressor(max_depth = 30, min_samples_split=10,min_samples_leaf=5,max_features=5,random_state=0)\n",
    "regressor.fit(X_train, y_train)\n",
    "\n",
    "#predicting the results.\n",
    "y_pred = regressor.predict(X_test)\n"
   ]
  },
  {
   "cell_type": "code",
   "execution_count": 13,
   "metadata": {},
   "outputs": [
    {
     "data": {
      "text/html": [
       "<div>\n",
       "<style scoped>\n",
       "    .dataframe tbody tr th:only-of-type {\n",
       "        vertical-align: middle;\n",
       "    }\n",
       "\n",
       "    .dataframe tbody tr th {\n",
       "        vertical-align: top;\n",
       "    }\n",
       "\n",
       "    .dataframe thead th {\n",
       "        text-align: right;\n",
       "    }\n",
       "</style>\n",
       "<table border=\"1\" class=\"dataframe\">\n",
       "  <thead>\n",
       "    <tr style=\"text-align: right;\">\n",
       "      <th></th>\n",
       "      <th>Real Values</th>\n",
       "      <th>Predicted Values</th>\n",
       "    </tr>\n",
       "  </thead>\n",
       "  <tbody>\n",
       "    <tr>\n",
       "      <th>7</th>\n",
       "      <td>52.238692</td>\n",
       "      <td>52.960811</td>\n",
       "    </tr>\n",
       "    <tr>\n",
       "      <th>24</th>\n",
       "      <td>29.098334</td>\n",
       "      <td>30.319566</td>\n",
       "    </tr>\n",
       "  </tbody>\n",
       "</table>\n",
       "</div>"
      ],
      "text/plain": [
       "    Real Values  Predicted Values\n",
       "7     52.238692         52.960811\n",
       "24    29.098334         30.319566"
      ]
     },
     "execution_count": 13,
     "metadata": {},
     "output_type": "execute_result"
    }
   ],
   "source": [
    "df = pd.DataFrame({'Real Values':y_test, 'Predicted Values':y_pred})\n",
    "df.head(2)"
   ]
  },
  {
   "cell_type": "code",
   "execution_count": 14,
   "metadata": {},
   "outputs": [
    {
     "name": "stdout",
     "output_type": "stream",
     "text": [
      "Mean Absolute Error: 7.002269762573148\n",
      "Mean Squared Error: 157.2637817908131\n",
      "Root Mean Squared Error: 12.540485707930658\n"
     ]
    }
   ],
   "source": [
    "#Evaluating the Algorithm,making use of  mean absolute error, mean squared error, and root mean squared error.\n",
    "from sklearn import metrics\n",
    "print('Mean Absolute Error:', metrics.mean_absolute_error(y_test, y_pred))\n",
    "print('Mean Squared Error:', metrics.mean_squared_error(y_test, y_pred))\n",
    "print('Root Mean Squared Error:', np.sqrt(metrics.mean_squared_error(y_test, y_pred)))"
   ]
  },
  {
   "cell_type": "code",
   "execution_count": 27,
   "metadata": {},
   "outputs": [
    {
     "data": {
      "text/plain": [
       "0.9907188956474403"
      ]
     },
     "execution_count": 27,
     "metadata": {},
     "output_type": "execute_result"
    }
   ],
   "source": [
    "#to calculate for the error,the closer to 1 then the model works well.\n",
    "from sklearn.metrics import r2_score\n",
    "r2_score(y_test,y_pred)"
   ]
  },
  {
   "cell_type": "code",
   "execution_count": 15,
   "metadata": {},
   "outputs": [],
   "source": [
    "# Visualising the Decision Tree Regression Results \n",
    "#X = np.arange(min(X), max(X), 0.1)\n",
    "#X = X_grid((len(X_grid), 1))\n",
    "#plt.scatter(X_test, y_test, color = 'red')\n",
    "#plt.scatter(X_test, y_pred, color = 'green')\n",
    "#plt.title('Decision Tree Regression')\n",
    "#plt.xlabel('Volume')\n",
    "#plt.ylabel('Close')\n",
    "#plt.show()\n",
    "\n",
    "#plt.plot(X_grid, regressor.predict(X_grid), color = 'black')\n",
    "#plt.title('Decision Tree Regression')\n",
    "#plt.xlabel('Volume')\n",
    "#plt.ylabel('Close')\n",
    "#plt.show()"
   ]
  },
  {
   "cell_type": "code",
   "execution_count": 23,
   "metadata": {},
   "outputs": [],
   "source": [
    "#MAKING USE OF RANDOM FOREST ALGORITHM.\n",
    "# Splitting the dataset into training and test set.  \n",
    "from sklearn.model_selection import train_test_split  \n",
    "X_train, X_test, y_train, y_test= train_test_split(X, y, test_size= 0.30, random_state=0)\n",
    "\n",
    "from sklearn.ensemble import RandomForestRegressor\n",
    "from sklearn.metrics import mean_absolute_error\n",
    "\n",
    "forest_model = RandomForestRegressor(n_estimators = 10, random_state=0)\n",
    "regressor.fit(X_train, y_train)\n",
    "y_pred= regressor.predict(X_test)"
   ]
  },
  {
   "cell_type": "code",
   "execution_count": 25,
   "metadata": {},
   "outputs": [
    {
     "name": "stdout",
     "output_type": "stream",
     "text": [
      "Mean Absolute Error: 6.528070347284456\n",
      "Mean Squared Error: 138.4547995669702\n",
      "Root Mean Squared Error: 11.766681756849303\n"
     ]
    }
   ],
   "source": [
    "#Evaluating the Algorithm,making use of  mean absolute error, mean squared error, and root mean squared error.\n",
    "from sklearn import metrics\n",
    "print('Mean Absolute Error:', metrics.mean_absolute_error(y_test, y_pred))\n",
    "print('Mean Squared Error:', metrics.mean_squared_error(y_test, y_pred))\n",
    "print('Root Mean Squared Error:', np.sqrt(metrics.mean_squared_error(y_test, y_pred)))"
   ]
  },
  {
   "cell_type": "code",
   "execution_count": 26,
   "metadata": {},
   "outputs": [
    {
     "data": {
      "text/plain": [
       "0.9907188956474403"
      ]
     },
     "execution_count": 26,
     "metadata": {},
     "output_type": "execute_result"
    }
   ],
   "source": [
    "#to calculate for the error,the closer to 1 then the model works well.\n",
    "from sklearn.metrics import r2_score\n",
    "r2_score(y_test,y_pred)"
   ]
  }
 ],
 "metadata": {
  "kernelspec": {
   "display_name": "Python 3",
   "language": "python",
   "name": "python3"
  },
  "language_info": {
   "codemirror_mode": {
    "name": "ipython",
    "version": 3
   },
   "file_extension": ".py",
   "mimetype": "text/x-python",
   "name": "python",
   "nbconvert_exporter": "python",
   "pygments_lexer": "ipython3",
   "version": "3.7.1"
  }
 },
 "nbformat": 4,
 "nbformat_minor": 2
}
